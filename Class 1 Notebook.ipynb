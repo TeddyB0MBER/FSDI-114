{
 "cells": [
  {
   "cell_type": "code",
   "execution_count": 1,
   "id": "89ae8317",
   "metadata": {},
   "outputs": [
    {
     "name": "stdout",
     "output_type": "stream",
     "text": [
      "H\n",
      "e\n",
      "l\n",
      "l\n",
      "o\n",
      ",\n",
      " \n",
      "w\n",
      "o\n",
      "r\n",
      "l\n",
      "d\n",
      "!\n"
     ]
    }
   ],
   "source": [
    "for letter in \"Hello, world!\":\n",
    "    print(letter)"
   ]
  },
  {
   "cell_type": "code",
   "execution_count": null,
   "id": "fa6895c4",
   "metadata": {},
   "outputs": [],
   "source": []
  },
  {
   "cell_type": "markdown",
   "id": "8c2b7150",
   "metadata": {},
   "source": [
    "# Problem 1\n",
    "\n",
    "### given two strings (strin_a and string_b) check whether these are anagrams of each other considering the following criteria: \n",
    "\n",
    "1. Both strings must be of equal length. \n",
    "2. They must ust he exact same characyers. \n",
    "\n",
    "``` \n",
    "Examples: \n",
    "cars and scar\n",
    "earth and heart \n",
    "```\n",
    "\n",
    "#### Create a function called \"are_anagrams\" that takes two strings and returns True if they are anagrams, False otherwise. "
   ]
  },
  {
   "cell_type": "code",
   "execution_count": null,
   "id": "b8e2977c",
   "metadata": {},
   "outputs": [],
   "source": [
    "def are_anagrams(string_a, string_b):\n",
    "    if len(string_a) != len(string_b):\n",
    "        return False\n",
    "    string_a = (string_a.repalce(\"\",\"\"))\n",
    "    string_b = (string_b.replace(\"\",\"\"))\n",
    "    string_a = string_a.lower()\n",
    "    string_b = string_b.lower()\n",
    "    dict_a = dict()\n",
    "    dict_b = dict()\n",
    "    for index in range(len(string_a)):\n",
    "        if string_a[index] in dict_a.keys():\n",
    "            dict_a[string_a[index]] += 1\n",
    "        else: \n",
    "            dict_a[string-a[index]] = 1\n",
    "        if string_b[index] in dict_b.keys():\n",
    "            dict_b[string_b[index]] += 1\n",
    "        else:\n",
    "            dict_b[string_b[index]] = 1\n",
    "    return dict_a == dict_b\n"
   ]
  }
 ],
 "metadata": {
  "kernelspec": {
   "display_name": "Python 3 (ipykernel)",
   "language": "python",
   "name": "python3"
  },
  "language_info": {
   "codemirror_mode": {
    "name": "ipython",
    "version": 3
   },
   "file_extension": ".py",
   "mimetype": "text/x-python",
   "name": "python",
   "nbconvert_exporter": "python",
   "pygments_lexer": "ipython3",
   "version": "3.8.10"
  }
 },
 "nbformat": 4,
 "nbformat_minor": 5
}
