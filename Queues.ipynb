{
 "cells": [
  {
   "cell_type": "code",
   "execution_count": 4,
   "id": "39f72e67",
   "metadata": {},
   "outputs": [],
   "source": [
    "# Enqueue adds things to the queue\n",
    "# Dequeue removes things from the queue\n",
    "#queue are used to delay something to prevent multiple processes occuring at once\n",
    "class Queue:\n",
    "    def __init__(self):\n",
    "        self.items = []\n",
    "        \n",
    "    def enqueue (self,element):\n",
    "        return self.items.append(element)\n",
    "    \n",
    "    def dequeue (self):\n",
    "        return self.items.pop(0)\n",
    "        \n",
    "        \n",
    "    #nice to have\n",
    "    \n",
    "    def size(self):\n",
    "        return len(self.items)\n",
    "    \n",
    "    def is_empty(self):\n",
    "        return self.items == []\n",
    "    \n",
    "    def peek(self):\n",
    "        return self.items[len(self.items)-1]\n",
    "    \n",
    "    def __len__ (self):\n",
    "        return self.size()\n",
    "        "
   ]
  },
  {
   "cell_type": "code",
   "execution_count": 5,
   "id": "93338e38",
   "metadata": {},
   "outputs": [
    {
     "ename": "TypeError",
     "evalue": "dequeue() missing 1 required positional argument: 'element'",
     "output_type": "error",
     "traceback": [
      "\u001b[0;31m---------------------------------------------------------------------------\u001b[0m",
      "\u001b[0;31mTypeError\u001b[0m                                 Traceback (most recent call last)",
      "Cell \u001b[0;32mIn[5], line 10\u001b[0m\n\u001b[1;32m      7\u001b[0m     \u001b[38;5;28;01mwhile\u001b[39;00m \u001b[38;5;129;01mnot\u001b[39;00m myqueue\u001b[38;5;241m.\u001b[39mis_empty():\n\u001b[1;32m      8\u001b[0m         \u001b[38;5;28mprint\u001b[39m(myqueue\u001b[38;5;241m.\u001b[39mdequeue())\n\u001b[0;32m---> 10\u001b[0m \u001b[43mdelay_items\u001b[49m\u001b[43m(\u001b[49m\u001b[43mx\u001b[49m\u001b[43m)\u001b[49m\n",
      "Cell \u001b[0;32mIn[5], line 8\u001b[0m, in \u001b[0;36mdelay_items\u001b[0;34m(mylist)\u001b[0m\n\u001b[1;32m      6\u001b[0m     myqueue\u001b[38;5;241m.\u001b[39menqueue(number)\n\u001b[1;32m      7\u001b[0m \u001b[38;5;28;01mwhile\u001b[39;00m \u001b[38;5;129;01mnot\u001b[39;00m myqueue\u001b[38;5;241m.\u001b[39mis_empty():\n\u001b[0;32m----> 8\u001b[0m     \u001b[38;5;28mprint\u001b[39m(\u001b[43mmyqueue\u001b[49m\u001b[38;5;241;43m.\u001b[39;49m\u001b[43mdequeue\u001b[49m\u001b[43m(\u001b[49m\u001b[43m)\u001b[49m)\n",
      "\u001b[0;31mTypeError\u001b[0m: dequeue() missing 1 required positional argument: 'element'"
     ]
    }
   ],
   "source": [
    "x = [i for i in range(11)]\n",
    "\n",
    "def delay_items(mylist):\n",
    "    myqueue = Queue()\n",
    "    for number in mylist:\n",
    "        myqueue.enqueue(number)\n",
    "    while not myqueue.is_empty(): # this statement reads if myqueus in not empty\n",
    "        print(myqueue.dequeue())\n",
    "        \n",
    "delay_items(x)"
   ]
  },
  {
   "cell_type": "code",
   "execution_count": null,
   "id": "33b440c9",
   "metadata": {},
   "outputs": [],
   "source": []
  },
  {
   "cell_type": "code",
   "execution_count": 6,
   "id": "a6399568",
   "metadata": {},
   "outputs": [],
   "source": [
    "#ASSESSMENT\n",
    "#Create a Class that holds the function to add and remove queues\n",
    "# the following methods are .enqueue() & .dequeue() in sequential order\n",
    "# create a list that can hold and allow user to navigate the queue's\n",
    "# create a function that returns true if list is empty\n",
    "\n",
    "class Node(object):\n",
    "    def __init__(self, data):\n",
    "        self.data = data\n",
    "        self.next = None\n",
    "    \n",
    "class Queue(object):    \n",
    "    def __init__(self):  \n",
    "        self.head = None        \n",
    "        self.tail = None\n",
    "        \n",
    "    def isEmpty(self):\n",
    "        return self.head == None\n",
    "    \n",
    "    def peek(self):\n",
    "        return self.head.data\n",
    "    \n",
    "    def enqueue(self, data):\n",
    "        new_data = Node(data)\n",
    "        if self.head is None:\n",
    "           self.head = new_data\n",
    "           self.tail = self.head\n",
    "        else:\n",
    "           self.tail.next = new_data\n",
    "           self.tail = new_data\n",
    "            \n",
    "    def dequeue(self):\n",
    "    data = self.head.data\n",
    "    self.head = self.head.next\n",
    "    if self.head is None:\n",
    "        self.tail is None\n",
    "    return data\n",
    "    "
   ]
  },
  {
   "cell_type": "code",
   "execution_count": 7,
   "id": "1148c6ba",
   "metadata": {},
   "outputs": [
    {
     "ename": "SyntaxError",
     "evalue": "invalid syntax (2142270888.py, line 14)",
     "output_type": "error",
     "traceback": [
      "\u001b[0;36m  Cell \u001b[0;32mIn[7], line 14\u001b[0;36m\u001b[0m\n\u001b[0;31m    return self.front = None\u001b[0m\n\u001b[0m                      ^\u001b[0m\n\u001b[0;31mSyntaxError\u001b[0m\u001b[0;31m:\u001b[0m invalid syntax\n"
     ]
    }
   ],
   "source": [
    "class Node:\n",
    "    def __init__(self,data):\n",
    "        self.data = data\n",
    "        self.prev = None\n",
    "        \n",
    "class Queue(object):\n",
    "    \n",
    "    def __init__(self):\n",
    "        self.front = None\n",
    "        \n",
    "    def size(self):\n",
    "        return len(self.front)\n",
    "        \n",
    "    def isEmpty(self):\n",
    "        return self.front = None \n",
    "    \n",
    "    def peek(self):\n",
    "        return self.front.data\n",
    "        \n",
    "    def enqueue(self, element) \n",
    "        if self.front != None:\n",
    "            current = self.front \n",
    "            while current.prev:  #this is the same as while current.prev != None\n",
    "                current = current.prev\n",
    "        else: \n",
    "            self.front = Node(element)\n",
    "    \n",
    "    def dequeue(self):\n",
    "        if sel.front:\n",
    "            output = awlf.front.data\n",
    "            self.front = self.front.prev\n",
    "            return output\n",
    "        return None"
   ]
  },
  {
   "cell_type": "code",
   "execution_count": 8,
   "id": "cb3a1654",
   "metadata": {},
   "outputs": [],
   "source": [
    "x = [ 1, 2, 3, 4, 5]"
   ]
  },
  {
   "cell_type": "code",
   "execution_count": null,
   "id": "fb1a96ec",
   "metadata": {},
   "outputs": [],
   "source": [
    "class Node:\n",
    "    def __init__(self,data):\n",
    "        self.data = data\n",
    "        self.next = None\n",
    "        \n",
    "class SingLinkedList:\n",
    "    def __init__(self):\n",
    "        self.head = None\n",
    "        \n",
    "    def append(self, element):\n",
    "        new_node = Node(element)\n",
    "        if self.head:\n",
    "            current = self.head\n",
    "            while current.next:\n",
    "                current = current.next\n",
    "            current.next = new_node\n",
    "        else: \n",
    "            self.head = new_node\n",
    "            \n",
    "    def __str__(self):\n",
    "        current = self.head\n",
    "        output_str = \"%s\" % current.data\n",
    "        while current:\n",
    "            current = current.next\n",
    "            if current: \n",
    "                output_str += \", %s\" % current.data\n",
    "            output_str = \"]\"\n",
    "            return output_str\n",
    "        "
   ]
  }
 ],
 "metadata": {
  "kernelspec": {
   "display_name": "Python 3 (ipykernel)",
   "language": "python",
   "name": "python3"
  },
  "language_info": {
   "codemirror_mode": {
    "name": "ipython",
    "version": 3
   },
   "file_extension": ".py",
   "mimetype": "text/x-python",
   "name": "python",
   "nbconvert_exporter": "python",
   "pygments_lexer": "ipython3",
   "version": "3.8.10"
  }
 },
 "nbformat": 4,
 "nbformat_minor": 5
}
