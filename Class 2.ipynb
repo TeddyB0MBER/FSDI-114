{
 "cells": [
  {
   "cell_type": "code",
   "execution_count": 5,
   "id": "afb85b3e",
   "metadata": {},
   "outputs": [],
   "source": [
    "class Stack:\n",
    "    def __init__(self):\n",
    "        self.items = []\n",
    "        \n",
    "    def push(self,element):\n",
    "        self.items.append(element)\n",
    "        \n",
    "    def pop(self):\n",
    "        return self.items.pop()\n",
    "    \n",
    "# Nice to have\n",
    "    def is_empty(self):\n",
    "        return self.items == []\n",
    "        \n",
    "    def peek(self):\n",
    "        return self.items[len(self.items)-1]\n",
    "    \n",
    "    def size(self):\n",
    "        return len(self.items)\n",
    "    \n",
    "    def __len__(self):\n",
    "        return self.size()\n",
    "#     shift + enter key to enter a cell\n"
   ]
  },
  {
   "cell_type": "code",
   "execution_count": 6,
   "id": "53f861c2",
   "metadata": {},
   "outputs": [
    {
     "data": {
      "text/plain": [
       "'gnouT'"
      ]
     },
     "execution_count": 6,
     "metadata": {},
     "output_type": "execute_result"
    }
   ],
   "source": [
    "#Use a stack to invert a string\n",
    "\n",
    "mystring = \"Tuong\"\n",
    "\n",
    "def invert(str_param):\n",
    "    stack = Stack()\n",
    "    for letter in str_param:\n",
    "        stack.push(letter)\n",
    "    out = \"\"\n",
    "    while not stack.is_empty(): # shorthand for \"\"\n",
    "        out += stack.pop() # short hand for out = out + stack.pop()\n",
    "    return out\n",
    "\n",
    "invert(mystring)"
   ]
  },
  {
   "cell_type": "code",
   "execution_count": 7,
   "id": "68ef8706",
   "metadata": {},
   "outputs": [
    {
     "name": "stdout",
     "output_type": "stream",
     "text": [
      "5\n"
     ]
    }
   ],
   "source": [
    "# pass by value:\n",
    "#Primary data types : int, float, bool\n",
    "# These always pass by \"value\"\n",
    "\n",
    "x = 5 \n",
    "y = x\n",
    "\n",
    "x = x + 1 \n",
    "print(y)"
   ]
  },
  {
   "cell_type": "code",
   "execution_count": 8,
   "id": "633be044",
   "metadata": {},
   "outputs": [
    {
     "name": "stdout",
     "output_type": "stream",
     "text": [
      "[1, 2, 3, 4, 5, 6]\n"
     ]
    }
   ],
   "source": [
    "#pass by reference\n",
    "#all data structures, objects,etc\n",
    "#these always passs by \"reference\":\n",
    "\n",
    "x = [1,2,3,4,5]\n",
    "\n",
    "y = x \n",
    "\n",
    "x.append(6)\n",
    "\n",
    "print(y)"
   ]
  },
  {
   "cell_type": "code",
   "execution_count": 16,
   "id": "0693f2bb",
   "metadata": {},
   "outputs": [],
   "source": [
    "\n",
    "class Node:\n",
    "    def __init__(self, data):\n",
    "        self.data = data\n",
    "        self.above = None\n",
    "\n",
    "class Stack:\n",
    "    def __init__(self):\n",
    "        self.base = None \n",
    "        \n",
    "    def push(self, element):\n",
    "        new_node = Node(element)\n",
    "        if self.base == None: \n",
    "            self.base = new_node\n",
    "        else: \n",
    "            current = self.base\n",
    "            while current.above: # shorthand for \"while current.above !-None\"\n",
    "                current = current.above\n",
    "            current.above = new_node\n",
    "            \n",
    "    def pop(self):\n",
    "        if self.base: # shorthand for \"if self.base !=None\"\n",
    "            current = self.base\n",
    "            prev = None\n",
    "            while current.above:\n",
    "                prev = current\n",
    "                current = current.above\n",
    "            value = current.data\n",
    "            if not prev:         #this is shorthand for \"if prev == None\"\n",
    "                self.base = None\n",
    "            else:\n",
    "                prev.above = None  \n",
    "            return value \n",
    "        raise IndexError( \"Stack is empty\")\n",
    "        \n",
    "    def is_empty(self):\n",
    "        self.base == None\n",
    "    \n",
    "    def size(self):\n",
    "        # Create For loop that detects if stack is empyt\n",
    "        # if stack is not empty, run thourhg the stack and detect how many nodes are present\n",
    "    \n",
    "    def peek(self):# show top most element without removing from stack\n",
    "        # create a for loop to check if stack is empty\n",
    "        # create a list that holds the the current amout and order of nodes\n",
    "        # nodes will be placed in order from most recent to latest, \n",
    "        # run a for loop, to detect the earliest node. \n",
    "                "
   ]
  },
  {
   "cell_type": "code",
   "execution_count": null,
   "id": "90b769ad",
   "metadata": {},
   "outputs": [],
   "source": []
  },
  {
   "cell_type": "code",
   "execution_count": 18,
   "id": "b4e5f25c",
   "metadata": {},
   "outputs": [
    {
     "name": "stdout",
     "output_type": "stream",
     "text": [
      "5\n",
      "4\n",
      "3\n",
      "2\n",
      "1\n",
      "0\n"
     ]
    }
   ],
   "source": [
    "stack = Stack( )\n",
    "\n",
    "for number in range(6):\n",
    "    stack.push(number)\n",
    "    \n",
    "for _ in range(6):\n",
    "    out = stack.pop()\n",
    "    print(out)\n",
    "    "
   ]
  },
  {
   "cell_type": "code",
   "execution_count": null,
   "id": "53da11c3",
   "metadata": {},
   "outputs": [],
   "source": []
  }
 ],
 "metadata": {
  "kernelspec": {
   "display_name": "Python 3 (ipykernel)",
   "language": "python",
   "name": "python3"
  },
  "language_info": {
   "codemirror_mode": {
    "name": "ipython",
    "version": 3
   },
   "file_extension": ".py",
   "mimetype": "text/x-python",
   "name": "python",
   "nbconvert_exporter": "python",
   "pygments_lexer": "ipython3",
   "version": "3.8.10"
  }
 },
 "nbformat": 4,
 "nbformat_minor": 5
}
